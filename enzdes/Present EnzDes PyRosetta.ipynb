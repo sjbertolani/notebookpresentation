{
 "cells": [
  {
   "cell_type": "markdown",
   "metadata": {
    "slideshow": {
     "slide_type": "slide"
    }
   },
   "source": [
    "# Enzyme Design in PyRosetta\n",
    "\n",
    "<br></br>\n",
    "\n",
    "## Steve Bertolani\n",
    "## Winter RosettaCon"
   ]
  },
  {
   "cell_type": "markdown",
   "metadata": {
    "slideshow": {
     "slide_type": "slide"
    }
   },
   "source": [
    "## This uses PyRosetta 4.0 bindings\n",
    "\n",
    "## Enyzme Design with Pyrosetta\n",
    "\n",
    "Thanks to the new version of the PyRosetta bindings (nice work Sergey!) most of the enzdes code now works in python. There are a few things to note along the way. This demo will show you how to run enzyme design in PyRosetta using the files located at https://github.com/dacarlin/bagel-foldit. That location has a PDB file, an enzyme design file, params file (and rotamers)\n",
    "\n",
    "Note: Try \"git clone https://github.com/dacarlin/bagel-foldit\" in the same directory that you have this notebook. Also, you must have already downloaded and pip installed pyrosetta4 bindings to your python. This assumes you have Anaconda's python 2.7 installed as well.\n",
    "\n",
    "You can always pass your extra desired options into the pyrosetta.init string\n",
    "\n",
    "This is not entirely reproducing the xml as of yet."
   ]
  },
  {
   "cell_type": "code",
   "execution_count": 1,
   "metadata": {
    "collapsed": false,
    "slideshow": {
     "slide_type": "slide"
    }
   },
   "outputs": [
    {
     "name": "stdout",
     "output_type": "stream",
     "text": [
      "Found rosetta database at: /home/steve/anaconda2/lib/python2.7/site-packages/pyrosetta-4.0-py2.7.egg/database; using it....\n",
      "PyRosetta-4 2016 [Rosetta 2016 unknown:7ce9d5bf5174d497560ce1624761e0c166dc30c3 2016-07-22 16:07:06 -0700] retrieved from: git@github.com:RosettaCommons/main.git\n",
      "(C) Copyright Rosetta Commons Member Institutions.\n",
      "Created in JHU by Sergey Lyskov and PyRosetta Team.\n",
      "\n"
     ]
    }
   ],
   "source": [
    "import rosetta\n",
    "import pyrosetta\n",
    "pyrosetta.init('-extra_res_fa ./bagel-foldit/cid92930.params -run:preserve_header T')"
   ]
  },
  {
   "cell_type": "code",
   "execution_count": 23,
   "metadata": {
    "collapsed": false,
    "slideshow": {
     "slide_type": "subslide"
    }
   },
   "outputs": [
    {
     "name": "stdout",
     "output_type": "stream",
     "text": [
      "True\n"
     ]
    }
   ],
   "source": [
    "print pyrosetta.rosetta.basic.options.get_boolean_option(\"run:preserve_header\")"
   ]
  },
  {
   "cell_type": "code",
   "execution_count": null,
   "metadata": {
    "collapsed": false,
    "slideshow": {
     "slide_type": "slide"
    }
   },
   "outputs": [],
   "source": [
    "# This must be turned on globally for the enable_cst_scorefunction to turn on the fnr term (which is actually res_type_constraint, see protocols:protein_design_interface:design_utils)\n",
    "# and also see protocols.enzdes.endes_utils\n",
    "# Note, how we can print the value before and after it's set to verify our changes\n",
    "\n",
    "print pyrosetta.rosetta.basic.options.get_real_option('enzdes:favor_native_res')\n",
    "pyrosetta.rosetta.basic.options.set_real_option('enzdes:favor_native_res',2.0)\n",
    "\n",
    "print pyrosetta.rosetta.basic.options.get_real_option('enzdes:lig_packer_weight')\n",
    "pyrosetta.rosetta.basic.options.set_real_option('enzdes:lig_packer_weight',1.5)\n",
    "#print pyrosetta.rosetta.basic.options.get_real_option('enzdes:lig_packer_weight')\n",
    "\n",
    "## These must be set globally for the detect_ligand_interace to work, there should be getters and setters, but \n",
    "## as of today, there aren't any\n",
    "print pyrosetta.rosetta.basic.options.get_real_option('enzdes:cut1')\n",
    "print pyrosetta.rosetta.basic.options.get_real_option('enzdes:cut2')\n",
    "print pyrosetta.rosetta.basic.options.get_real_option('enzdes:cut3')\n",
    "print pyrosetta.rosetta.basic.options.get_real_option('enzdes:cut4')\n",
    "print pyrosetta.rosetta.basic.options.get_boolean_option('enzdes:detect_design_interface')\n",
    "\n",
    "pyrosetta.rosetta.basic.options.set_real_option('enzdes:cut1',10.0)\n",
    "pyrosetta.rosetta.basic.options.set_real_option('enzdes:cut2',10.0)\n",
    "pyrosetta.rosetta.basic.options.set_real_option('enzdes:cut3',12.0)\n",
    "pyrosetta.rosetta.basic.options.set_real_option('enzdes:cut4',14.0)\n",
    "pyrosetta.rosetta.basic.options.set_boolean_option('enzdes:detect_design_interface',True)"
   ]
  },
  {
   "cell_type": "code",
   "execution_count": 25,
   "metadata": {
    "collapsed": false,
    "slideshow": {
     "slide_type": "subslide"
    }
   },
   "outputs": [
    {
     "name": "stdout",
     "output_type": "stream",
     "text": [
      "10.0\n",
      "10.0\n",
      "12.0\n",
      "14.0\n"
     ]
    }
   ],
   "source": [
    "print pyrosetta.rosetta.basic.options.get_real_option('enzdes:cut1')\n",
    "print pyrosetta.rosetta.basic.options.get_real_option('enzdes:cut2')\n",
    "print pyrosetta.rosetta.basic.options.get_real_option('enzdes:cut3')\n",
    "print pyrosetta.rosetta.basic.options.get_real_option('enzdes:cut4')"
   ]
  },
  {
   "cell_type": "code",
   "execution_count": 26,
   "metadata": {
    "collapsed": true,
    "slideshow": {
     "slide_type": "skip"
    }
   },
   "outputs": [],
   "source": [
    "# Optional, if you want to watch in Pymol\n",
    "pm = rosetta.protocols.moves.PyMolMover()\n",
    "pm.keep_history(True)\n",
    "pm.apply(p) ## Note, this started the Pymol counter to state 1 (view at bottom right hand corner)"
   ]
  },
  {
   "cell_type": "code",
   "execution_count": 2,
   "metadata": {
    "collapsed": true,
    "slideshow": {
     "slide_type": "slide"
    }
   },
   "outputs": [],
   "source": [
    "## Setup Scorefunctions\n",
    "\n",
    "sfxn = pyrosetta.get_fa_scorefxn()\n",
    "rosetta.protocols.enzdes.enzutil.enable_constraint_scoreterms(sfxn)\n",
    "\n",
    "soft_rep = rosetta.core.scoring.ScoreFunctionFactory.create_score_function(\"soft_rep\")"
   ]
  },
  {
   "cell_type": "markdown",
   "metadata": {
    "slideshow": {
     "slide_type": "subslide"
    }
   },
   "source": [
    "     <SCOREFXNS>\n",
    "               <myscore weights=talaris2013_cst.wts/>\n",
    "     </SCOREFXNS>"
   ]
  },
  {
   "cell_type": "code",
   "execution_count": 28,
   "metadata": {
    "collapsed": true,
    "slideshow": {
     "slide_type": "skip"
    }
   },
   "outputs": [],
   "source": [
    "mm = pyrosetta.MoveMap()\n",
    "mm.show(p.total_residue())"
   ]
  },
  {
   "cell_type": "code",
   "execution_count": null,
   "metadata": {
    "collapsed": true,
    "slideshow": {
     "slide_type": "slide"
    }
   },
   "outputs": [],
   "source": [
    "## Setup movers!\n",
    "\n",
    "# Create the AddorRemoveMatchCsts object, read in the file, and apply/add them to the pose\n",
    "addcsts = rosetta.protocols.enzdes.AddOrRemoveMatchCsts()\n",
    "addcsts.cstfile('bagel-foldit/cid92930.enzdes.cst')\n",
    "addcsts.set_cst_action( rosetta.protocols.enzdes.CstAction.ADD_NEW )\n",
    "addcsts.apply(p)\n",
    "\n",
    "# This is the enzdes generic move-the-ligand-around sampling mover\n",
    "predock = rosetta.protocols.enzdes.PredesignPerturbMover()\n",
    "predock.trans_magnitude(0.1)\n",
    "predock.rot_magnitude(2)\n",
    "## This set ligand must be set to the ligand, here it is hard coded for the example\n",
    "predock.set_ligand(446) # or p.n_total() Assumes the ligand is the last"
   ]
  },
  {
   "cell_type": "markdown",
   "metadata": {
    "slideshow": {
     "slide_type": "subslide"
    }
   },
   "source": [
    "     <MOVERS>\n",
    "\n",
    "             <AddOrRemoveMatchCsts name=cstadd cst_instruction=add_new/>\n",
    "             \n",
    "             <PredesignPerturbMover name=predock trans_magnitude=0.1 rot_magnitude=1 dock_trials=500/>"
   ]
  },
  {
   "cell_type": "code",
   "execution_count": null,
   "metadata": {
    "collapsed": true,
    "slideshow": {
     "slide_type": "slide"
    }
   },
   "outputs": [],
   "source": [
    "## These two objects/movers are the business end of enzdes in rosetta. They setup the object, some options,\n",
    "## with the only difference here being the second one turns backbone (bb) minimziations on\n",
    "enzdes = rosetta.protocols.enzdes.EnzRepackMinimize()\n",
    "enzdes.set_scorefxn_minimize(sfxn)\n",
    "enzdes.set_scorefxn_repack(soft_rep)\n",
    "enzdes.set_min_lig(True)\n",
    "enzdes.set_min_rb(True)\n",
    "enzdes.set_min_sc(True)\n",
    "enzdes.set_design(True)\n",
    "\n",
    "enzdes_wbb = rosetta.protocols.enzdes.EnzRepackMinimize()\n",
    "enzdes_wbb.set_scorefxn_minimize(sfxn)\n",
    "enzdes_wbb.set_min_lig(True)\n",
    "enzdes_wbb.set_min_rb(True)\n",
    "enzdes_wbb.set_min_sc(True)\n",
    "enzdes_wbb.set_design(True)\n",
    "enzdes_wbb.set_scorefxn_repack(soft_rep)\n",
    "enzdes_wbb.set_min_bb(True)\n",
    "\n",
    "sfxn(p)"
   ]
  },
  {
   "cell_type": "markdown",
   "metadata": {
    "slideshow": {
     "slide_type": "subslide"
    }
   },
   "source": [
    "              <EnzRepackMinimize name=desmin_nobb design=1 repack_only=0 scorefxn_minimize=myscore scorefxn_repack=soft_rep minimize_rb=1 minimize_sc=1 minimize_bb=0 cycles=1 minimize_lig=1 min_in_stages=0 backrub=0 task_operations=edto,limchi2,catres/>\n",
    "             \n",
    "             <EnzRepackMinimize name=desmin_wbb design=1 repack_only=0 scorefxn_minimize=myscore scorefxn_repack=soft_rep minimize_rb=1 minimize_sc=1 minimize_bb=1 cycles=1 minimize_lig=1 min_in_stages=0 backrub=0 task_operations=edto,limchi2,catres/>"
   ]
  },
  {
   "cell_type": "code",
   "execution_count": 29,
   "metadata": {
    "collapsed": false,
    "slideshow": {
     "slide_type": "skip"
    }
   },
   "outputs": [
    {
     "data": {
      "text/plain": [
       "-650.87487918439"
      ]
     },
     "execution_count": 29,
     "metadata": {},
     "output_type": "execute_result"
    }
   ],
   "source": [
    "## Notes for the future\n",
    "\n",
    "# min in stages?  # further investigation required here\n",
    "# backrub? # further investigation required here\n",
    "\n",
    "# Now score the protein (this includes the constraints in the score)\n",
    "sfxn(p) # you need this for nbr graph to populate"
   ]
  },
  {
   "cell_type": "code",
   "execution_count": 30,
   "metadata": {
    "collapsed": false,
    "slideshow": {
     "slide_type": "slide"
    }
   },
   "outputs": [],
   "source": [
    "# Setup task opertations and add them to the enzdes movers\n",
    "\n",
    "tf = rosetta.core.pack.task.TaskFactory()\n",
    "\n",
    "# Sets up the packing/design shells from the global options set above\n",
    "dp = rosetta.protocols.enzdes.DetectProteinLigandInterface()\n",
    "dp.init_from_options()\n",
    "\n",
    "## Applies the enigmatic Task Operation LimitAromaticChi2 operation to the packer task.\n",
    "## This is one of those legacy operations that you have to ask the Rosetta elders to explain\n",
    "## Rosetta source credits Nobuyasu for this TO\n",
    "limchi2 = rosetta.protocols.toolbox.task_operations.LimitAromaChi2Operation()\n",
    "\n",
    "# This restricts the residues define in the constraint file to only be allowed to pack, not designable\n",
    "canttouchcatres = rosetta.protocols.enzdes.SetCatalyticResPackBehavior()\n",
    "canttouchcatres.set_fix_catalytic_aa(False) ## seems to freeze them, no repacking if set to True\n",
    "\n",
    "# Push back all of our TO's onto the task factory (see Design Patterns on Factorys)\n",
    "tf.push_back(dp)\n",
    "tf.push_back(canttouchcatres)\n",
    "tf.push_back(limchi2)\n",
    "\n",
    "# Create a packer task, specifically for the cstopt mover to work\n",
    "pt = tf.create_task_and_apply_taskoperations(p)\n",
    "\n",
    "enzdes.task_factory( tf ) # sets the enzdes movers to use our task factory set with our task operations \n",
    "enzdes_wbb.task_factory( tf )"
   ]
  },
  {
   "cell_type": "markdown",
   "metadata": {
    "slideshow": {
     "slide_type": "subslide"
    }
   },
   "source": [
    "    <TASKOPERATIONS>\n",
    "               <DetectProteinLigandInterface name=edto design=1 cut1=6.0 cut2=8.0 cut3=10.0 cut4=12.0/>\n",
    "               <DetectProteinLigandInterface name=edto_repack design=1 cut1=6.0 cut2=6.0 cut3=10.0 cut4=12.0/>\n",
    "               <LimitAromaChi2 name=limchi2/>\n",
    "               <SetCatalyticResPackBehavior name=catres fix_catalytic_aa=0/>\n",
    "               <SetCatalyticResPackBehavior name=fixcat fix_catalytic_aa=1/>\n",
    "                <ProteinLigandInterfaceUpweighter name=up interface_weight=1.5/>\n",
    "     </TASKOPERATIONS>\n",
    "     "
   ]
  },
  {
   "cell_type": "code",
   "execution_count": 31,
   "metadata": {
    "collapsed": true,
    "slideshow": {
     "slide_type": "skip"
    }
   },
   "outputs": [
    {
     "name": "stdout",
     "output_type": "stream",
     "text": [
      "1 False False\n",
      "2 False False\n",
      "3 False False\n",
      "4 False False\n",
      "5 False False\n",
      "6 False False\n",
      "7 False False\n",
      "8 False False\n",
      "9 False False\n",
      "10 False False\n",
      "11 False False\n",
      "12 False False\n",
      "13 False True\n",
      "14 True True\n",
      "15 True True\n",
      "16 True True\n",
      "17 True True\n",
      "18 True True\n",
      "19 True True\n",
      "20 True True\n",
      "21 False True\n",
      "22 False False\n",
      "23 False False\n",
      "24 False False\n",
      "25 False False\n",
      "26 False False\n",
      "27 False False\n",
      "28 False False\n",
      "29 False False\n",
      "30 False False\n",
      "31 False False\n",
      "32 False False\n",
      "33 False False\n",
      "34 False True\n",
      "35 False False\n",
      "36 False False\n",
      "37 False False\n",
      "38 False False\n",
      "39 False False\n",
      "40 False False\n",
      "41 False False\n",
      "42 False False\n",
      "43 False False\n",
      "44 False True\n",
      "45 False True\n",
      "46 False False\n",
      "47 False False\n",
      "48 False False\n",
      "49 False False\n",
      "50 False True\n",
      "51 False False\n",
      "52 False False\n",
      "53 False True\n",
      "54 False True\n",
      "55 False False\n",
      "56 False False\n",
      "57 False False\n",
      "58 False False\n",
      "59 False False\n",
      "60 False False\n",
      "61 False False\n",
      "62 False False\n",
      "63 False False\n",
      "64 False False\n",
      "65 False False\n",
      "66 False False\n",
      "67 False False\n",
      "68 False False\n",
      "69 False False\n",
      "70 False False\n",
      "71 False False\n",
      "72 False False\n",
      "73 False False\n",
      "74 False False\n",
      "75 False False\n",
      "76 False True\n",
      "77 False True\n",
      "78 True True\n",
      "79 False False\n",
      "80 False False\n",
      "81 False False\n",
      "82 False False\n",
      "83 False False\n",
      "84 False False\n",
      "85 False False\n",
      "86 False False\n",
      "87 False False\n",
      "88 False False\n",
      "89 False False\n",
      "90 False False\n",
      "91 False False\n",
      "92 False False\n",
      "93 False False\n",
      "94 False False\n",
      "95 False False\n",
      "96 False False\n",
      "97 False False\n",
      "98 False False\n",
      "99 False False\n",
      "100 False False\n",
      "101 False False\n",
      "102 False False\n",
      "103 False False\n",
      "104 False False\n",
      "105 False False\n",
      "106 False False\n",
      "107 False False\n",
      "108 False False\n",
      "109 False False\n",
      "110 False False\n",
      "111 False False\n",
      "112 False False\n",
      "113 False False\n",
      "114 False True\n",
      "115 False False\n",
      "116 False True\n",
      "117 False False\n",
      "118 False True\n",
      "119 True True\n",
      "120 True True\n",
      "121 False True\n",
      "122 False False\n",
      "123 False False\n",
      "124 False False\n",
      "125 False False\n",
      "126 False False\n",
      "127 False False\n",
      "128 False False\n",
      "129 False False\n",
      "130 False False\n",
      "131 False False\n",
      "132 False False\n",
      "133 False False\n",
      "134 False False\n",
      "135 False False\n",
      "136 False False\n",
      "137 False False\n",
      "138 False False\n",
      "139 False False\n",
      "140 False False\n",
      "141 False False\n",
      "142 False False\n",
      "143 False False\n",
      "144 False False\n",
      "145 False False\n",
      "146 False False\n",
      "147 False False\n",
      "148 False False\n",
      "149 False False\n",
      "150 False False\n",
      "151 False False\n",
      "152 False False\n",
      "153 False False\n",
      "154 False False\n",
      "155 False False\n",
      "156 False False\n",
      "157 False False\n",
      "158 False False\n",
      "159 False False\n",
      "160 False True\n",
      "161 False False\n",
      "162 False True\n",
      "163 True True\n",
      "164 False True\n",
      "165 False True\n",
      "166 True True\n",
      "167 True True\n",
      "168 True True\n",
      "169 False False\n",
      "170 False True\n",
      "171 True True\n",
      "172 False True\n",
      "173 False False\n",
      "174 False False\n",
      "175 False True\n",
      "176 False False\n",
      "177 True True\n",
      "178 True True\n",
      "179 False True\n",
      "180 False False\n",
      "181 False False\n",
      "182 False False\n",
      "183 False False\n",
      "184 False False\n",
      "185 False False\n",
      "186 False False\n",
      "187 False False\n",
      "188 False False\n",
      "189 False False\n",
      "190 False False\n",
      "191 False False\n",
      "192 False False\n",
      "193 False False\n",
      "194 False False\n",
      "195 False False\n",
      "196 False False\n",
      "197 False False\n",
      "198 False False\n",
      "199 False False\n",
      "200 False False\n",
      "201 False False\n",
      "202 False False\n",
      "203 False False\n",
      "204 False False\n",
      "205 False False\n",
      "206 False False\n",
      "207 False False\n",
      "208 False False\n",
      "209 False False\n",
      "210 False False\n",
      "211 False False\n",
      "212 False False\n",
      "213 False False\n",
      "214 False False\n",
      "215 False False\n",
      "216 False False\n",
      "217 False False\n",
      "218 True True\n",
      "219 True True\n",
      "220 True True\n",
      "221 True True\n",
      "222 True True\n",
      "223 False False\n",
      "224 False False\n",
      "225 False False\n",
      "226 False False\n",
      "227 False False\n",
      "228 False False\n",
      "229 False False\n",
      "230 False False\n",
      "231 False False\n",
      "232 False False\n",
      "233 False False\n",
      "234 False False\n",
      "235 False False\n",
      "236 False False\n",
      "237 False False\n",
      "238 False False\n",
      "239 False False\n",
      "240 False True\n",
      "241 False False\n",
      "242 False False\n",
      "243 False True\n",
      "244 False True\n",
      "245 False False\n",
      "246 False False\n",
      "247 False False\n",
      "248 False False\n",
      "249 False False\n",
      "250 False False\n",
      "251 False False\n",
      "252 False False\n",
      "253 False False\n",
      "254 False False\n",
      "255 False False\n",
      "256 False False\n",
      "257 False False\n",
      "258 False False\n",
      "259 False False\n",
      "260 False False\n",
      "261 False False\n",
      "262 False False\n",
      "263 False False\n",
      "264 False False\n",
      "265 False False\n",
      "266 False False\n",
      "267 False False\n",
      "268 False False\n",
      "269 False False\n",
      "270 False False\n",
      "271 False False\n",
      "272 False False\n",
      "273 False False\n",
      "274 False False\n",
      "275 False False\n",
      "276 False False\n",
      "277 False False\n",
      "278 False False\n",
      "279 False False\n",
      "280 False False\n",
      "281 False False\n",
      "282 False False\n",
      "283 False False\n",
      "284 False False\n",
      "285 False False\n",
      "286 False False\n",
      "287 False False\n",
      "288 False False\n",
      "289 False False\n",
      "290 False False\n",
      "291 False True\n",
      "292 True True\n",
      "293 True True\n",
      "294 True True\n",
      "295 False True\n",
      "296 True True\n",
      "297 True True\n",
      "298 True True\n",
      "299 False False\n",
      "300 False False\n",
      "301 False False\n",
      "302 False False\n",
      "303 False False\n",
      "304 False False\n",
      "305 False False\n",
      "306 False False\n",
      "307 False False\n",
      "308 False False\n",
      "309 False False\n",
      "310 False False\n",
      "311 False False\n",
      "312 False False\n",
      "313 False True\n",
      "314 False False\n",
      "315 False True\n",
      "316 False False\n",
      "317 False False\n",
      "318 False False\n",
      "319 False False\n",
      "320 False True\n",
      "321 False True\n",
      "322 False True\n",
      "323 True True\n",
      "324 False True\n",
      "325 True True\n",
      "326 False True\n",
      "327 False False\n",
      "328 False False\n",
      "329 False False\n",
      "330 False False\n",
      "331 False False\n",
      "332 False False\n",
      "333 False False\n",
      "334 False False\n",
      "335 False False\n",
      "336 False False\n",
      "337 False False\n",
      "338 False False\n",
      "339 False False\n",
      "340 False False\n",
      "341 False False\n",
      "342 False False\n",
      "343 False False\n",
      "344 False False\n",
      "345 False False\n",
      "346 False False\n",
      "347 False False\n",
      "348 False False\n",
      "349 False False\n",
      "350 False True\n",
      "351 False True\n",
      "352 True True\n",
      "353 False True\n",
      "354 True True\n",
      "355 True True\n",
      "356 True True\n",
      "357 True True\n",
      "358 False True\n",
      "359 False False\n",
      "360 False False\n",
      "361 False False\n",
      "362 False False\n",
      "363 False False\n",
      "364 False False\n",
      "365 False False\n",
      "366 False False\n",
      "367 False False\n",
      "368 False False\n",
      "369 False False\n",
      "370 False False\n",
      "371 False False\n",
      "372 False True\n",
      "373 False False\n",
      "374 False False\n",
      "375 False True\n",
      "376 False False\n",
      "377 False False\n",
      "378 False False\n",
      "379 False False\n",
      "380 False False\n",
      "381 False False\n",
      "382 False False\n",
      "383 False False\n",
      "384 False False\n",
      "385 False False\n",
      "386 False False\n",
      "387 False False\n",
      "388 False False\n",
      "389 False False\n",
      "390 False False\n",
      "391 False False\n",
      "392 False False\n",
      "393 False False\n",
      "394 False False\n",
      "395 False False\n",
      "396 False False\n",
      "397 False True\n",
      "398 False True\n",
      "399 True True\n",
      "400 True True\n",
      "401 False True\n",
      "402 False True\n",
      "403 True True\n",
      "404 True True\n",
      "405 True True\n",
      "406 True True\n",
      "407 True True\n",
      "408 True True\n",
      "409 True True\n",
      "410 False True\n",
      "411 False True\n",
      "412 False True\n",
      "413 True True\n",
      "414 True True\n",
      "415 True True\n",
      "416 True True\n",
      "417 False False\n",
      "418 False False\n",
      "419 False False\n",
      "420 False False\n",
      "421 False False\n",
      "422 False False\n",
      "423 False False\n",
      "424 False False\n",
      "425 False False\n",
      "426 False False\n",
      "427 False False\n",
      "428 False False\n",
      "429 False False\n",
      "430 False False\n",
      "431 False False\n",
      "432 False False\n",
      "433 False False\n",
      "434 False False\n",
      "435 False False\n",
      "436 False False\n",
      "437 False False\n",
      "438 False False\n",
      "439 False False\n",
      "440 False False\n",
      "441 False False\n",
      "442 False False\n",
      "443 False False\n",
      "444 False False\n",
      "445 False False\n",
      "446 False True\n"
     ]
    }
   ],
   "source": [
    "# Just leaving this here as an example, but this allows for manual inspection of your packer task \n",
    "# after all of the task operations have been applied. You could also apply one at a time to verify how\n",
    "# they are working and that they are indeed working.\n",
    "\n",
    "for i in xrange(1,p.total_residue()+1):\n",
    "    print i,pt.being_designed(i),pt.being_packed(i)"
   ]
  },
  {
   "cell_type": "code",
   "execution_count": 32,
   "metadata": {
    "collapsed": false,
    "slideshow": {
     "slide_type": "skip"
    }
   },
   "outputs": [
    {
     "name": "stdout",
     "output_type": "stream",
     "text": [
      "<rosetta.core.pack.task.PackerTask_ object at 0x7f6366ecce70>\n"
     ]
    }
   ],
   "source": [
    "print pt"
   ]
  },
  {
   "cell_type": "code",
   "execution_count": 33,
   "metadata": {
    "collapsed": false,
    "slideshow": {
     "slide_type": "slide"
    }
   },
   "outputs": [
    {
     "name": "stdout",
     "output_type": "stream",
     "text": [
      "My_New_Mover.__init__...\n"
     ]
    }
   ],
   "source": [
    "# Warning, what follows is a bunch of **** all because there is not a getter/setter\n",
    "# for cst_opt in the enzdesmovers\n",
    "\n",
    "# Mover sub-classing -----------------------------------                                                         \n",
    "# Thank you Sergey!\n",
    "#\n",
    "class My_New_Mover(rosetta.protocols.moves.Mover):\n",
    "    def __init__(self,sfxn,pt):\n",
    "        print( 'My_New_Mover.__init__...' )\n",
    "        rosetta.protocols.moves.Mover.__init__(self)\n",
    "        self.sfxn = sfxn\n",
    "        self.pt = pt\n",
    "        \n",
    "    def get_name(self): return 'My_New_Mover'\n",
    "\n",
    "    def apply(self, p):\n",
    "        #print( 'My_New_Mover.apply:', type(p) )\n",
    "        #print( 'This My_New_Mover apply...' )\n",
    "\n",
    "        cstopt = rosetta.protocols.enzdes.EnzdesBaseProtocol()\n",
    "        cstopt.set_scorefxn( self.sfxn )\n",
    "        cstopt.set_minimize_options(True, False, True, True) # check this fn signature for details\n",
    "        \n",
    "        # this actuall runs the minimizer !\n",
    "        cstopt.cst_minimize(p, self.pt, True)\n",
    "\n",
    "cstopt = My_New_Mover(sfxn,pt)\n",
    "\n",
    "## Note that a mover must have an apply function that takes a pose and does something to it\n",
    "## in this case, cst opt derives from Enzdesbase protocol, but in the xml it's call from an option in\n",
    "## the enzdesrepackmin mover... blah blah blah, long story short, this ends up working in pyrosetta since\n",
    "## there are currently no setters for this option in the enzrepackmin mover... this needs to be fixed"
   ]
  },
  {
   "cell_type": "markdown",
   "metadata": {
    "slideshow": {
     "slide_type": "subslide"
    }
   },
   "source": [
    "             <EnzRepackMinimize name=cstopt cst_opt=1 minimize_rb=1 minimize_sc=1 minimize_bb=0 cycles=1 min_in_stages=0 minimize_lig=1/>"
   ]
  },
  {
   "cell_type": "code",
   "execution_count": 34,
   "metadata": {
    "collapsed": false,
    "slideshow": {
     "slide_type": "skip"
    }
   },
   "outputs": [],
   "source": [
    "## Now we string all of our movers together so that one mover can be fed into the generic monte carlo\n",
    "\n",
    "parsed = rosetta.protocols.moves.SequenceMover()\n",
    "\n",
    "parsed.add_mover(predock)\n",
    "\n",
    "parsed.add_mover(cstopt)\n",
    "\n",
    "parsed.add_mover(enzdes)\n",
    "\n",
    "parsed.add_mover(enzdes_wbb)"
   ]
  },
  {
   "cell_type": "markdown",
   "metadata": {
    "slideshow": {
     "slide_type": "subslide"
    }
   },
   "source": [
    "             <ParsedProtocol name=dock_des>\n",
    "             \t<Add mover=predock/>\n",
    "                <Add mover=cstopt/>\n",
    "                <Add mover=desmin_wbb/>\n",
    "             </ParsedProtocol>"
   ]
  },
  {
   "cell_type": "code",
   "execution_count": 35,
   "metadata": {
    "collapsed": true,
    "slideshow": {
     "slide_type": "slide"
    }
   },
   "outputs": [],
   "source": [
    "## now we setup the Generic Monte Carlo object to run the simulation, this will run our sequence mover/parsedprotocol\n",
    "## for X cycles, you can set the criterion (sfxn) and filters and other stuff\n",
    "\n",
    "# The XML line looks like this\n",
    "##<GenericMonteCarlo name=multi_dd mover_name=dock_des filter_name=allcst trials=10 sample_type=low temperature=0.6 drift=1\\/>\n",
    "\n",
    "mc = rosetta.protocols.simple_moves.GenericMonteCarloMover()\n",
    "mc.set_drift(True) # this sets drift for the maxtrials (not technically mc anymore)\n",
    "mc.set_maxtrials(1)  # CHANGE THIS TO 10 for real runs\n",
    "mc.set_sampletype('low')\n",
    "mc.set_temperature(0.6)\n",
    "mc.set_mover(parsed)\n",
    "mc.set_scorefxn(sfxn)\n",
    "#mc.apply(p)"
   ]
  },
  {
   "cell_type": "markdown",
   "metadata": {
    "slideshow": {
     "slide_type": "subslide"
    }
   },
   "source": [
    "\t     <GenericMonteCarlo name=multi_dd mover_name=dock_des filter_name=allcst trials=10 sample_type=low temperature=0.6 drift=1/>\n",
    "\n",
    "</MOVERS>"
   ]
  },
  {
   "cell_type": "code",
   "execution_count": 36,
   "metadata": {
    "collapsed": false,
    "slideshow": {
     "slide_type": "slide"
    }
   },
   "outputs": [],
   "source": [
    "# This is how you would normally run for nstruct 10\n",
    "# Note: This is not actually necessary depending on your goals, you can\n",
    "# also mc.apply(p), or store the energies over the simulation, or p.dump_pdb() etc.\n",
    "nstruct = 2\n",
    "job_output = 'test_output'\n",
    "jd = pyrosetta.PyJobDistributor(job_output, nstruct, sfxn)\n",
    "temp_pose = rosetta.core.pose.Pose()    # a temporary pose to export to PyMOL                                                                     \n",
    "temp_pose.assign(p)\n",
    "counter = 0    # for pretty output to PyMOL                                                                                     \n",
    "\n",
    "while not jd.job_complete:\n",
    "    \n",
    "    counter += 1\n",
    "    \n",
    "    test_pose = rosetta.core.pose.Pose()\n",
    "    # set staring pose to input pose\n",
    "    test_pose.assign(p)    \n",
    "    # change pose name for pretty viewing in PyMol\n",
    "    test_pose.pdb_info().name(job_output + '_' + str(counter))\n",
    "\n",
    "    # apply mc mover (with all of the stuff)\n",
    "    mc.apply(test_pose)\n",
    "    \n",
    "    # have the jd output the resulting low energy model\n",
    "    jd.output_decoy(test_pose)\n",
    "\n"
   ]
  },
  {
   "cell_type": "markdown",
   "metadata": {
    "slideshow": {
     "slide_type": "subslide"
    }
   },
   "source": [
    "    \n",
    " <PROTOCOLS>\n",
    "     <Add mover_name=cstadd/>\n",
    "     <Add mover_name=multi_dd/>\n",
    "</PROTOCOLS>"
   ]
  },
  {
   "cell_type": "code",
   "execution_count": null,
   "metadata": {
    "collapsed": true
   },
   "outputs": [],
   "source": []
  }
 ],
 "metadata": {
  "anaconda-cloud": {},
  "celltoolbar": "Slideshow",
  "kernelspec": {
   "display_name": "Python [default]",
   "language": "python",
   "name": "python2"
  },
  "language_info": {
   "codemirror_mode": {
    "name": "ipython",
    "version": 2
   },
   "file_extension": ".py",
   "mimetype": "text/x-python",
   "name": "python",
   "nbconvert_exporter": "python",
   "pygments_lexer": "ipython2",
   "version": "2.7.12"
  }
 },
 "nbformat": 4,
 "nbformat_minor": 0
}
