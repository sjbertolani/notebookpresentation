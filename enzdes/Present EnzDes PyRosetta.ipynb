{
 "cells": [
  {
   "cell_type": "markdown",
   "metadata": {},
   "source": [
    "This assumes you\n",
    "\n",
    "- Have installed PyRosetta4\n",
    "- Are using Anaconda's Python Package\n",
    "- Have installed RISE (see link below)\n",
    "\n",
    "conda install -c damianavila82 rise\n",
    "\n",
    "https://github.com/damianavila/RISE\n",
    "    \n",
    "Restart the notebook, you should now see a histogram. Click on it (above this slide in your toolbar) to enter the slide show\n",
    "\n",
    "<img src='Screenshot from 2017-02-09 11-05-05.png'/>"
   ]
  },
  {
   "cell_type": "markdown",
   "metadata": {
    "slideshow": {
     "slide_type": "slide"
    }
   },
   "source": [
    "# Enzyme Design in PyRosetta\n",
    "\n",
    "<br></br>\n",
    "\n",
    "## Steve Bertolani\n",
    "## Winter RosettaCon"
   ]
  },
  {
   "cell_type": "markdown",
   "metadata": {
    "slideshow": {
     "slide_type": "slide"
    }
   },
   "source": [
    "\n",
    "# Classic\n",
    "\n",
    "C++\n",
    "\n",
    "\n",
    "./enzyme_design.default.linuxgccrelease –database ./../../database -s mypdb.pdb -extra_res_fa my.params -ex1 -ex2 -enzdesflasgs -nstruct 10 -ncycles 20 -trials\n",
    "\n",
    "Recompile to change,  get designed PDBs as output\n",
    "Black box\n",
    "\n"
   ]
  },
  {
   "cell_type": "markdown",
   "metadata": {
    "slideshow": {
     "slide_type": "slide"
    }
   },
   "source": [
    "# New(er)\n",
    "\n",
    "XML\n",
    "\n",
    "\n",
    "./rosetta_scripts.default.linuxgccrelease –database ./../../database @enzymedesign.flags –parser:protocol\n",
    "\n",
    "Can easily add movers, must use –jd2:enzdes to get cst energy terms broken down, PDB’s output\n",
    "Black box (but you can add other boxes before and after) or read the rosetta trace\n"
   ]
  },
  {
   "cell_type": "markdown",
   "metadata": {
    "slideshow": {
     "slide_type": "slide"
    }
   },
   "source": [
    "# Python\n",
    "\n",
    "\n",
    "Python enzymedesign.py enzdesflags\n",
    "\n",
    "\n",
    "No need to output PDBs, easily add your own movers, extract energies, process further down the pipeline, autocomplete commands\n",
    "Semi transparent black box, with inspection of most things available (TO, PackerTask, Selections)\n"
   ]
  },
  {
   "cell_type": "markdown",
   "metadata": {
    "slideshow": {
     "slide_type": "subslide"
    }
   },
   "source": [
    "## This uses PyRosetta 4.0 bindings\n",
    "\n",
    "## Enyzme Design with Pyrosetta\n",
    "\n",
    "Thanks to the new version of the PyRosetta bindings (nice work Sergey!) most of the enzdes code now works in python. There are a few things to note along the way. This demo will show you how to run enzyme design in PyRosetta using the files located at https://github.com/dacarlin/bagel-foldit. That location has a PDB file, an enzyme design file, params file (and rotamers)\n",
    "\n",
    "Note: Try \"git clone https://github.com/dacarlin/bagel-foldit\" in the same directory that you have this notebook. Also, you must have already downloaded and pip installed pyrosetta4 bindings to your python. This assumes you have Anaconda's python 2.7 installed as well.\n",
    "\n",
    "You can always pass your extra desired options into the pyrosetta.init string\n",
    "\n",
    "This is not entirely reproducing the xml as of yet."
   ]
  },
  {
   "cell_type": "markdown",
   "metadata": {
    "slideshow": {
     "slide_type": "slide"
    }
   },
   "source": [
    "# Start Rosetta"
   ]
  },
  {
   "cell_type": "code",
   "execution_count": null,
   "metadata": {
    "collapsed": false,
    "slideshow": {
     "slide_type": "-"
    }
   },
   "outputs": [],
   "source": [
    "import rosetta\n",
    "import pyrosetta\n",
    "pyrosetta.init('-extra_res_fa ./bagel-foldit/cid92930.params -run:preserve_header T')"
   ]
  },
  {
   "cell_type": "code",
   "execution_count": null,
   "metadata": {
    "collapsed": true,
    "slideshow": {
     "slide_type": "subslide"
    }
   },
   "outputs": [],
   "source": [
    "#print pyrosetta.rosetta.basic.options.get_boolean_option(\"run:preserve_header\")\n",
    "print pyrosetta.rosetta.basic.options.get_boolean_option('packing:ex1')\n",
    "pyrosetta.rosetta.basic.options.set_boolean_option('packing:ex1',True)\n",
    "print pyrosetta.rosetta.basic.options.get_boolean_option('packing:ex1')"
   ]
  },
  {
   "cell_type": "markdown",
   "metadata": {
    "slideshow": {
     "slide_type": "slide"
    }
   },
   "source": [
    "# Setup Globals <- for now"
   ]
  },
  {
   "cell_type": "code",
   "execution_count": null,
   "metadata": {
    "collapsed": false,
    "slideshow": {
     "slide_type": "-"
    }
   },
   "outputs": [],
   "source": [
    "# This must be turned on globally for the enable_cst_scorefunction to turn on the fnr term (which is actually res_type_constraint, see protocols:protein_design_interface:design_utils)\n",
    "# and also see protocols.enzdes.endes_utils\n",
    "# Note, how we can print the value before and after it's set to verify our changes\n",
    "\n",
    "print pyrosetta.rosetta.basic.options.get_real_option('enzdes:favor_native_res')\n",
    "pyrosetta.rosetta.basic.options.set_real_option('enzdes:favor_native_res',2.0)\n",
    "\n",
    "print pyrosetta.rosetta.basic.options.get_real_option('enzdes:lig_packer_weight')\n",
    "pyrosetta.rosetta.basic.options.set_real_option('enzdes:lig_packer_weight',1.5)\n",
    "#print pyrosetta.rosetta.basic.options.get_real_option('enzdes:lig_packer_weight')\n",
    "\n",
    "## These must be set globally for the detect_ligand_interace to work, there should be getters and setters, but \n",
    "## as of today, there aren't any\n",
    "print pyrosetta.rosetta.basic.options.get_real_option('enzdes:cut1')\n",
    "print pyrosetta.rosetta.basic.options.get_real_option('enzdes:cut2')\n",
    "print pyrosetta.rosetta.basic.options.get_real_option('enzdes:cut3')\n",
    "print pyrosetta.rosetta.basic.options.get_real_option('enzdes:cut4')\n",
    "print pyrosetta.rosetta.basic.options.get_boolean_option('enzdes:detect_design_interface')\n",
    "\n",
    "pyrosetta.rosetta.basic.options.set_real_option('enzdes:cut1',10.0)\n",
    "pyrosetta.rosetta.basic.options.set_real_option('enzdes:cut2',10.0)\n",
    "pyrosetta.rosetta.basic.options.set_real_option('enzdes:cut3',12.0)\n",
    "pyrosetta.rosetta.basic.options.set_real_option('enzdes:cut4',14.0)\n",
    "pyrosetta.rosetta.basic.options.set_boolean_option('enzdes:detect_design_interface',True)"
   ]
  },
  {
   "cell_type": "code",
   "execution_count": null,
   "metadata": {
    "collapsed": false,
    "slideshow": {
     "slide_type": "subslide"
    }
   },
   "outputs": [],
   "source": [
    "print pyrosetta.rosetta.basic.options.get_real_option('enzdes:cut1')\n",
    "print pyrosetta.rosetta.basic.options.get_real_option('enzdes:cut2')\n",
    "print pyrosetta.rosetta.basic.options.get_real_option('enzdes:cut3')\n",
    "print pyrosetta.rosetta.basic.options.get_real_option('enzdes:cut4')"
   ]
  },
  {
   "cell_type": "markdown",
   "metadata": {
    "slideshow": {
     "slide_type": "slide"
    }
   },
   "source": [
    "# Make a pose"
   ]
  },
  {
   "cell_type": "code",
   "execution_count": null,
   "metadata": {
    "collapsed": true,
    "slideshow": {
     "slide_type": "-"
    }
   },
   "outputs": [],
   "source": [
    "p = pyrosetta.pose_from_file('./bagel-foldit/bagel.pdb')"
   ]
  },
  {
   "cell_type": "code",
   "execution_count": null,
   "metadata": {
    "collapsed": true,
    "slideshow": {
     "slide_type": "skip"
    }
   },
   "outputs": [],
   "source": [
    "# Optional, if you want to watch in Pymol\n",
    "pm = rosetta.protocols.moves.PyMolMover()\n",
    "pm.keep_history(True)\n",
    "pm.apply(p) ## Note, this started the Pymol counter to state 1 (view at bottom right hand corner)"
   ]
  },
  {
   "cell_type": "markdown",
   "metadata": {
    "slideshow": {
     "slide_type": "slide"
    }
   },
   "source": [
    "# Visualization"
   ]
  },
  {
   "cell_type": "markdown",
   "metadata": {
    "slideshow": {
     "slide_type": "skip"
    }
   },
   "source": [
    "The next line gets your browser to download the bio-pv javascript code so that we can construct a pv object"
   ]
  },
  {
   "cell_type": "code",
   "execution_count": null,
   "metadata": {
    "collapsed": false,
    "slideshow": {
     "slide_type": "slide"
    }
   },
   "outputs": [],
   "source": [
    "%%javascript\n",
    "require.config({\n",
    "  paths: {\n",
    "      pv: 'http://rawgit.com/biasmv/pv/master/bio-pv.min'\n",
    "  }\n",
    "});"
   ]
  },
  {
   "cell_type": "markdown",
   "metadata": {
    "slideshow": {
     "slide_type": "skip"
    }
   },
   "source": [
    "The next cell writes html to construct a pvviewer object and then attaches that to the output from the notebook cell. We need the unique number so that if we call this function in another cell, it will create a new pv viewer, instead of attaching to the old one"
   ]
  },
  {
   "cell_type": "code",
   "execution_count": null,
   "metadata": {
    "collapsed": false,
    "slideshow": {
     "slide_type": "slide"
    }
   },
   "outputs": [],
   "source": [
    "from IPython.display import display, Javascript\n",
    "\n",
    "def viewmyprotein( pdbfilename, number ):\n",
    "    display(Javascript(\"\"\"\n",
    "\n",
    "element.append(\"<div id='viewerNUMBER' style='width: 500dpx; height: 500dpx'></div>\");\n",
    "\n",
    "require(['pv'], function (pv){\n",
    "\n",
    "    var parent = document.getElementById('viewerNUMBER');\n",
    "\n",
    "    var viewer = pv.Viewer(parent, { width : 900, height : 450, antialias : true });\n",
    "    pv.io.fetchPdb('MYPDB', function(structure) {\n",
    "\n",
    "        viewer.on('viewerReady', function() {\n",
    "            var ligand = structure.select({rnames : ['LG1']});\n",
    "            viewer.ballsAndSticks('ligand', ligand);\n",
    "            viewer.cartoon('protein', structure);\n",
    "            viewer.autoZoom();\n",
    "            });\n",
    "    });\n",
    "});\n",
    "\n",
    "\"\"\".replace(\"MYPDB\",pdbfilename).replace('NUMBER',number)))"
   ]
  },
  {
   "cell_type": "code",
   "execution_count": null,
   "metadata": {
    "collapsed": false,
    "slideshow": {
     "slide_type": "slide"
    }
   },
   "outputs": [],
   "source": [
    "viewmyprotein('2jie.pdb',\"1\")"
   ]
  },
  {
   "cell_type": "code",
   "execution_count": null,
   "metadata": {
    "collapsed": false,
    "slideshow": {
     "slide_type": "slide"
    }
   },
   "outputs": [],
   "source": [
    "viewmyprotein('./bagel-foldit/bagel.pdb',\"2\")"
   ]
  },
  {
   "cell_type": "markdown",
   "metadata": {
    "slideshow": {
     "slide_type": "slide"
    }
   },
   "source": [
    "# Grab a Scorefunction"
   ]
  },
  {
   "cell_type": "code",
   "execution_count": null,
   "metadata": {
    "collapsed": true,
    "slideshow": {
     "slide_type": "-"
    }
   },
   "outputs": [],
   "source": [
    "## Setup Scorefunctions\n",
    "\n",
    "sfxn = pyrosetta.get_fa_scorefxn()\n",
    "rosetta.protocols.enzdes.enzutil.enable_constraint_scoreterms(sfxn)\n",
    "\n",
    "soft_rep = rosetta.core.scoring.ScoreFunctionFactory.create_score_function(\"soft_rep\")"
   ]
  },
  {
   "cell_type": "markdown",
   "metadata": {
    "slideshow": {
     "slide_type": "subslide"
    }
   },
   "source": [
    "     <SCOREFXNS>\n",
    "               <myscore weights=talaris2013_cst.wts/>\n",
    "     </SCOREFXNS>"
   ]
  },
  {
   "cell_type": "code",
   "execution_count": null,
   "metadata": {
    "collapsed": true,
    "slideshow": {
     "slide_type": "skip"
    }
   },
   "outputs": [],
   "source": [
    "mm = pyrosetta.MoveMap()\n",
    "mm.show(p.total_residue())"
   ]
  },
  {
   "cell_type": "markdown",
   "metadata": {
    "slideshow": {
     "slide_type": "slide"
    }
   },
   "source": [
    "# Add Csts, setup movers"
   ]
  },
  {
   "cell_type": "code",
   "execution_count": null,
   "metadata": {
    "collapsed": false,
    "slideshow": {
     "slide_type": "slide"
    }
   },
   "outputs": [],
   "source": [
    "\n",
    "addcsts = rosetta.protocols.enzdes.AddOrRemoveMatchCsts()\n",
    "addcsts.cstfile('bagel-foldit/cid92930.enzdes.cst')\n",
    "addcsts.set_cst_action( rosetta.protocols.enzdes.CstAction.ADD_NEW )\n",
    "addcsts.apply(p)\n",
    "\n",
    "\n",
    "predock = rosetta.protocols.enzdes.PredesignPerturbMover()\n",
    "predock.trans_magnitude(0.1)\n",
    "predock.rot_magnitude(2)\n",
    "predock.set_ligand(446)"
   ]
  },
  {
   "cell_type": "markdown",
   "metadata": {
    "slideshow": {
     "slide_type": "subslide"
    }
   },
   "source": [
    "     <MOVERS>\n",
    "\n",
    "             <AddOrRemoveMatchCsts name=cstadd cst_instruction=add_new/>\n",
    "             \n",
    "             <PredesignPerturbMover name=predock trans_magnitude=0.1 rot_magnitude=1 dock_trials=500/>"
   ]
  },
  {
   "cell_type": "markdown",
   "metadata": {
    "slideshow": {
     "slide_type": "slide"
    }
   },
   "source": [
    "# Setup EnzDes movers"
   ]
  },
  {
   "cell_type": "code",
   "execution_count": null,
   "metadata": {
    "collapsed": false,
    "slideshow": {
     "slide_type": "-"
    }
   },
   "outputs": [],
   "source": [
    "enzdes = rosetta.protocols.enzdes.EnzRepackMinimize()\n",
    "enzdes.set_scorefxn_minimize(sfxn)\n",
    "enzdes.set_scorefxn_repack(soft_rep)\n",
    "enzdes.set_min_lig(True)\n",
    "enzdes.set_min_rb(True)\n",
    "enzdes.set_min_sc(True)\n",
    "enzdes.set_design(True)\n",
    "\n",
    "enzdes_wbb = rosetta.protocols.enzdes.EnzRepackMinimize()\n",
    "enzdes_wbb.set_scorefxn_minimize(sfxn)\n",
    "enzdes_wbb.set_min_lig(True)\n",
    "enzdes_wbb.set_min_rb(True)\n",
    "enzdes_wbb.set_min_sc(True)\n",
    "enzdes_wbb.set_design(True)\n",
    "enzdes_wbb.set_scorefxn_repack(soft_rep)\n",
    "enzdes_wbb.set_min_bb(True)\n",
    "\n",
    "sfxn(p)"
   ]
  },
  {
   "cell_type": "markdown",
   "metadata": {
    "slideshow": {
     "slide_type": "subslide"
    }
   },
   "source": [
    "              <EnzRepackMinimize name=desmin_nobb design=1 repack_only=0 scorefxn_minimize=myscore scorefxn_repack=soft_rep minimize_rb=1 minimize_sc=1 minimize_bb=0 cycles=1 minimize_lig=1 min_in_stages=0 backrub=0 task_operations=edto,limchi2,catres/>\n",
    "             \n",
    "             <EnzRepackMinimize name=desmin_wbb design=1 repack_only=0 scorefxn_minimize=myscore scorefxn_repack=soft_rep minimize_rb=1 minimize_sc=1 minimize_bb=1 cycles=1 minimize_lig=1 min_in_stages=0 backrub=0 task_operations=edto,limchi2,catres/>"
   ]
  },
  {
   "cell_type": "markdown",
   "metadata": {
    "slideshow": {
     "slide_type": "slide"
    }
   },
   "source": [
    "# Score it ( populates nbr graph)"
   ]
  },
  {
   "cell_type": "code",
   "execution_count": null,
   "metadata": {
    "collapsed": false,
    "slideshow": {
     "slide_type": "-"
    }
   },
   "outputs": [],
   "source": [
    "sfxn(p)"
   ]
  },
  {
   "cell_type": "markdown",
   "metadata": {
    "slideshow": {
     "slide_type": "slide"
    }
   },
   "source": [
    "# Setup Task Operations"
   ]
  },
  {
   "cell_type": "code",
   "execution_count": null,
   "metadata": {
    "collapsed": false,
    "slideshow": {
     "slide_type": "-"
    }
   },
   "outputs": [],
   "source": [
    "tf = rosetta.core.pack.task.TaskFactory()\n",
    "\n",
    "# Sets up the packing/design shells from the global options set above\n",
    "dp = rosetta.protocols.enzdes.DetectProteinLigandInterface()\n",
    "dp.init_from_options()\n",
    "\n",
    "limchi2 = rosetta.protocols.toolbox.task_operations.LimitAromaChi2Operation()\n",
    "\n",
    "# This restricts the residues define in the constraint file to only be allowed to pack, not designable\n",
    "canttouchcatres = rosetta.protocols.enzdes.SetCatalyticResPackBehavior()\n",
    "canttouchcatres.set_fix_catalytic_aa(False) ## seems to freeze them, no repacking if set to True\n",
    "\n",
    "# Push back all of our TO's onto the task factory (see Design Patterns on Factorys)\n",
    "tf.push_back(dp)\n",
    "tf.push_back(canttouchcatres)\n",
    "tf.push_back(limchi2)\n",
    "\n",
    "# Create a packer task, specifically for the cstopt mover to work\n",
    "pt = tf.create_task_and_apply_taskoperations(p)\n",
    "\n",
    "enzdes.task_factory( tf ) # sets the enzdes movers to use our task factory set with our task operations \n",
    "enzdes_wbb.task_factory( tf )"
   ]
  },
  {
   "cell_type": "markdown",
   "metadata": {
    "slideshow": {
     "slide_type": "subslide"
    }
   },
   "source": [
    "    <TASKOPERATIONS>\n",
    "               <DetectProteinLigandInterface name=edto design=1 cut1=6.0 cut2=8.0 cut3=10.0 cut4=12.0/>\n",
    "               <DetectProteinLigandInterface name=edto_repack design=1 cut1=6.0 cut2=6.0 cut3=10.0 cut4=12.0/>\n",
    "               <LimitAromaChi2 name=limchi2/>\n",
    "               <SetCatalyticResPackBehavior name=catres fix_catalytic_aa=0/>\n",
    "               <SetCatalyticResPackBehavior name=fixcat fix_catalytic_aa=1/>\n",
    "                <ProteinLigandInterfaceUpweighter name=up interface_weight=1.5/>\n",
    "     </TASKOPERATIONS>\n",
    "     "
   ]
  },
  {
   "cell_type": "code",
   "execution_count": null,
   "metadata": {
    "collapsed": false,
    "slideshow": {
     "slide_type": "skip"
    }
   },
   "outputs": [],
   "source": [
    "# Just leaving this here as an example, but this allows for manual inspection of your packer task \n",
    "# after all of the task operations have been applied. You could also apply one at a time to verify how\n",
    "# they are working and that they are indeed working.\n",
    "\n",
    "for i in xrange(1,p.total_residue()+1):\n",
    "    print i,pt.being_designed(i),pt.being_packed(i)"
   ]
  },
  {
   "cell_type": "code",
   "execution_count": null,
   "metadata": {
    "collapsed": false,
    "slideshow": {
     "slide_type": "skip"
    }
   },
   "outputs": [],
   "source": [
    "print pt"
   ]
  },
  {
   "cell_type": "markdown",
   "metadata": {
    "slideshow": {
     "slide_type": "slide"
    }
   },
   "source": [
    "# Hack Cst Opt to work (to be fixed)"
   ]
  },
  {
   "cell_type": "code",
   "execution_count": null,
   "metadata": {
    "collapsed": false,
    "slideshow": {
     "slide_type": "-"
    }
   },
   "outputs": [],
   "source": [
    "# Mover sub-classing -----------------------------------                                                         \n",
    "# Thank you Sergey!\n",
    "class My_New_Mover(rosetta.protocols.moves.Mover):\n",
    "    def __init__(self,sfxn,pt):\n",
    "        print( 'My_New_Mover.__init__...' )\n",
    "        rosetta.protocols.moves.Mover.__init__(self)\n",
    "        self.sfxn = sfxn\n",
    "        self.pt = pt\n",
    "        \n",
    "    def get_name(self): return 'My_New_Mover'\n",
    "\n",
    "    def apply(self, p):\n",
    "\n",
    "        cstopt = rosetta.protocols.enzdes.EnzdesBaseProtocol()\n",
    "        cstopt.set_scorefxn( self.sfxn )\n",
    "        cstopt.set_minimize_options(True, False, True, True) # check this fn signature for details\n",
    "        \n",
    "        # this actuall runs the minimizer !\n",
    "        cstopt.cst_minimize(p, self.pt, True)\n",
    "\n",
    "cstopt = My_New_Mover(sfxn,pt)\n",
    "\n",
    "## Note that a mover must have an apply function that takes a pose and does something to it\n",
    "## in this case, cst opt derives from Enzdesbase protocol, but in the xml it's call from an option in\n",
    "## the enzdesrepackmin mover... blah blah blah, long story short, this ends up working in pyrosetta since\n",
    "## there are currently no setters for this option in the enzrepackmin mover... this needs to be fixed"
   ]
  },
  {
   "cell_type": "markdown",
   "metadata": {
    "slideshow": {
     "slide_type": "subslide"
    }
   },
   "source": [
    "             <EnzRepackMinimize name=cstopt cst_opt=1 minimize_rb=1 minimize_sc=1 minimize_bb=0 cycles=1 min_in_stages=0 minimize_lig=1/>"
   ]
  },
  {
   "cell_type": "markdown",
   "metadata": {
    "slideshow": {
     "slide_type": "slide"
    }
   },
   "source": [
    "# Add movers in sequence"
   ]
  },
  {
   "cell_type": "code",
   "execution_count": null,
   "metadata": {
    "collapsed": false,
    "slideshow": {
     "slide_type": "-"
    }
   },
   "outputs": [],
   "source": [
    "## Now we string all of our movers together so that one mover can be fed into the generic monte carlo\n",
    "#test_pose.dump_pdb('out.pdb')\n",
    "#viewmyprotein('out.pdb')\n",
    "    \n",
    "parsed = rosetta.protocols.moves.SequenceMover()\n",
    "\n",
    "parsed.add_mover(predock)\n",
    "\n",
    "parsed.add_mover(cstopt)\n",
    "\n",
    "parsed.add_mover(enzdes)\n",
    "\n",
    "parsed.add_mover(enzdes_wbb)"
   ]
  },
  {
   "cell_type": "markdown",
   "metadata": {
    "slideshow": {
     "slide_type": "subslide"
    }
   },
   "source": [
    "             <ParsedProtocol name=dock_des>\n",
    "             \t<Add mover=predock/>\n",
    "                <Add mover=cstopt/>\n",
    "                <Add mover=desmin_wbb/>\n",
    "             </ParsedProtocol>"
   ]
  },
  {
   "cell_type": "markdown",
   "metadata": {
    "slideshow": {
     "slide_type": "slide"
    }
   },
   "source": [
    "# Add sequence to MC mover"
   ]
  },
  {
   "cell_type": "code",
   "execution_count": null,
   "metadata": {
    "collapsed": true,
    "slideshow": {
     "slide_type": "slide"
    }
   },
   "outputs": [],
   "source": [
    "mc = rosetta.protocols.simple_moves.GenericMonteCarloMover()\n",
    "mc.set_drift(True) # this sets drift for the maxtrials (not technically mc anymore)\n",
    "mc.set_maxtrials(1)  # CHANGE THIS TO 10 for real runs\n",
    "mc.set_sampletype('low')\n",
    "mc.set_temperature(0.6)\n",
    "mc.set_mover(parsed)\n",
    "mc.set_scorefxn(sfxn)"
   ]
  },
  {
   "cell_type": "markdown",
   "metadata": {
    "slideshow": {
     "slide_type": "subslide"
    }
   },
   "source": [
    "\t     <GenericMonteCarlo name=multi_dd mover_name=dock_des filter_name=allcst trials=10 sample_type=low temperature=0.6 drift=1/>\n",
    "\n",
    "</MOVERS>"
   ]
  },
  {
   "cell_type": "code",
   "execution_count": null,
   "metadata": {
    "collapsed": false,
    "scrolled": true,
    "slideshow": {
     "slide_type": "slide"
    }
   },
   "outputs": [],
   "source": [
    "# This is how you would normally run for nstruct 10\n",
    "# Note: This is not actually necessary depending on your goals, you can\n",
    "# also mc.apply(p), or store the energies over the simulation, or p.dump_pdb() etc.\n",
    "nstruct = 2\n",
    "job_output = 'test_output'\n",
    "jd = pyrosetta.PyJobDistributor(job_output, nstruct, sfxn)\n",
    "temp_pose = rosetta.core.pose.Pose()    # a temporary pose to export to PyMOL                                                                     \n",
    "temp_pose.assign(p)\n",
    "counter = 0    # for pretty output to PyMOL                                                                                     \n",
    "\n",
    "while not jd.job_complete:\n",
    "    \n",
    "    counter += 1\n",
    "    \n",
    "    test_pose = rosetta.core.pose.Pose()\n",
    "    # set staring pose to input pose\n",
    "    test_pose.assign(p)    \n",
    "    # change pose name for pretty viewing in PyMol\n",
    "    test_pose.pdb_info().name(job_output + '_' + str(counter))\n",
    "\n",
    "    # apply mc mover (with all of the stuff)\n",
    "    mc.apply(test_pose)\n",
    "    \n",
    "    # have the jd output the resulting low energy model\n",
    "    jd.output_decoy(test_pose)\n",
    "\n",
    "    # see if this works the way I want it to in the loop\n",
    "    #test_pose.dump_pdb('out.pdb')\n",
    "    #viewmyprotein('out.pdb',\"%s\" %(\"2\"+str(counter)))\n",
    "    #viewmyprotein('out.pdb')\n",
    "\n"
   ]
  },
  {
   "cell_type": "markdown",
   "metadata": {
    "slideshow": {
     "slide_type": "slide"
    }
   },
   "source": [
    "Built with\n",
    "\n",
    "RISE https://github.com/damianavila/RISE\n",
    "\n",
    "Jupyter\n",
    "\n",
    "PyRosetta4"
   ]
  },
  {
   "cell_type": "markdown",
   "metadata": {
    "slideshow": {
     "slide_type": "slide"
    }
   },
   "source": [
    "<img src=\"10_21_2016_group_meeting.png\" />"
   ]
  },
  {
   "cell_type": "code",
   "execution_count": null,
   "metadata": {
    "collapsed": true
   },
   "outputs": [],
   "source": [
    "from IPython.display import HTML"
   ]
  },
  {
   "cell_type": "code",
   "execution_count": null,
   "metadata": {
    "collapsed": true
   },
   "outputs": [],
   "source": [
    "javascript = \"\"\"\n",
    "<script type='text/javascript' src='bower_components/bio-pv/bio-pv.min.js'>\n",
    "\n",
    "<script>\n",
    "var parent = document.getElementById('viewer');\n",
    "var viewer = bio-pv.Viewer(parent,\n",
    "                      { width : 300, height : 300, antialias : true });\n",
    "bio-pv.io.fetchPdb('bagel-foldit/bagel.pdb', function(structure) {\n",
    "  // select the two ligands contained in the methyl transferase by name, so\n",
    "  // we can display them as balls and sticks.\n",
    "  viewer.on('viewerReady', function() {\n",
    "    var ligand = structure.select('ligand'});\n",
    "    viewer.ballsAndSticks('ligand', ligand);\n",
    "    // display the whole protein as cartoon\n",
    "    viewer.cartoon('protein', structure);\n",
    "\n",
    "    // set camera orientation to pre-determined rotation, zoom and\n",
    "    // center values that are optimal for this very protein\n",
    "    var rotation = [\n",
    "      0.1728139370679855, 0.1443438231945038,  0.974320650100708,\n",
    "      0.0990324765443802, 0.9816440939903259, -0.162993982434272,\n",
    "      -0.9799638390541077, 0.1246569454669952,  0.155347332358360\n",
    "    ];\n",
    "    var center = [6.514, -45.571, 2.929];\n",
    "    viewer.setCamera(rotation, center, 73);\n",
    "  });\n",
    "});\n",
    "</script>\"\"\""
   ]
  },
  {
   "cell_type": "code",
   "execution_count": null,
   "metadata": {
    "collapsed": false
   },
   "outputs": [],
   "source": [
    "HTML(javascript)"
   ]
  },
  {
   "cell_type": "code",
   "execution_count": null,
   "metadata": {
    "collapsed": false
   },
   "outputs": [],
   "source": [
    "import pvviewer as pv\n",
    "struct = pv.mol.from_file('bagel-foldit/bagel.pdb')\n",
    "viewer = pv.Viewer()\n",
    "\n",
    "viewer.cartoon('mytest',struct)\n",
    "viewer.auto_zoom()\n",
    "viewer.show()"
   ]
  },
  {
   "cell_type": "code",
   "execution_count": null,
   "metadata": {
    "collapsed": true
   },
   "outputs": [],
   "source": []
  }
 ],
 "metadata": {
  "anaconda-cloud": {},
  "celltoolbar": "Slideshow",
  "kernelspec": {
   "display_name": "Python [default]",
   "language": "python",
   "name": "python2"
  },
  "language_info": {
   "codemirror_mode": {
    "name": "ipython",
    "version": 2
   },
   "file_extension": ".py",
   "mimetype": "text/x-python",
   "name": "python",
   "nbconvert_exporter": "python",
   "pygments_lexer": "ipython2",
   "version": "2.7.12"
  }
 },
 "nbformat": 4,
 "nbformat_minor": 0
}
