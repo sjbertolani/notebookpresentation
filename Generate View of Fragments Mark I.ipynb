{
 "cells": [
  {
   "cell_type": "code",
   "execution_count": 1,
   "metadata": {
    "collapsed": true
   },
   "outputs": [],
   "source": [
    "import rosetta\n",
    "import pyrosetta"
   ]
  },
  {
   "cell_type": "code",
   "execution_count": 2,
   "metadata": {
    "collapsed": false
   },
   "outputs": [
    {
     "name": "stdout",
     "output_type": "stream",
     "text": [
      "Found rosetta database at: /home/steve/anaconda2/lib/python2.7/site-packages/pyrosetta-4.0-py2.7.egg/database; using it....\n",
      "PyRosetta-4 2016 [Rosetta 2016 unknown:7ce9d5bf5174d497560ce1624761e0c166dc30c3 2016-07-22 16:07:06 -0700] retrieved from: git@github.com:RosettaCommons/main.git\n",
      "(C) Copyright Rosetta Commons Member Institutions.\n",
      "Created in JHU by Sergey Lyskov and PyRosetta Team.\n",
      "\n"
     ]
    }
   ],
   "source": [
    "pyrosetta.init()"
   ]
  },
  {
   "cell_type": "code",
   "execution_count": 3,
   "metadata": {
    "collapsed": false
   },
   "outputs": [],
   "source": [
    "fragio = rosetta.core.fragment.FragmentIO()\n",
    "myfrag = fragio.read_data('test.2jie.200.9mers')\n",
    "#res_set = rosetta.core.chemical.ChemicalManager.get_instance()\n",
    "res_set = rosetta.core.chemical.ChemicalManager.get_instance().nonconst_residue_type_set('fa_standard')\n",
    "centroid = rosetta.core.chemical.ChemicalManager.get_instance().nonconst_residue_type_set('centroid')\n",
    "\n",
    "#test = res_set.nonconst_residue_type_set_op('fa_standard')\n",
    "# print type(test)\n",
    "# print type(res_set)\n",
    "fragment_pose = rosetta.core.pose.Pose()"
   ]
  },
  {
   "cell_type": "code",
   "execution_count": 4,
   "metadata": {
    "collapsed": false
   },
   "outputs": [
    {
     "name": "stdout",
     "output_type": "stream",
     "text": [
      "1\n",
      "1800\n"
     ]
    }
   ],
   "source": [
    "myframelist = rosetta.core.fragment.FrameList()\n",
    "#myfrag.frames?\n",
    "print myfrag.frames(1,myframelist)\n",
    "print myfrag.size()\n",
    "# restyp = rosetta.std.weak_ptr_const_core_chemical_ResidueType_t\n",
    "# print type(restyp)\n",
    "#fragio = rosetta.core.fragment.FragmentIO()\n",
    "#it = fragio.read_data('2jie_.200.9mers').begin()\n",
    "#myframe = it.frame_ptr()\n",
    "#fragment_pose = rosetta.core.pose.Pose()\n",
    "\n",
    "#myframe.fragment_as_pose(10,fragment_pose, res_set )\n",
    "#myit = myfrag.begin()\n",
    "#myit.\n",
    "#p = rosetta.core.pose.Pose()\n",
    "#rosetta.core.fragment.dump_frames_as_pdb(p, myfrag.begin(), 'testfrags')\n",
    "#print myfrag.begin().fragment_as_pose(1, fragment_pose, restype_set)"
   ]
  },
  {
   "cell_type": "code",
   "execution_count": 5,
   "metadata": {
    "collapsed": false,
    "scrolled": true
   },
   "outputs": [
    {
     "name": "stdout",
     "output_type": "stream",
     "text": [
      "<class 'rosetta.core.fragment.FrameList'>\n",
      "<class 'rosetta.core.fragment.Frame'>\n",
      "Frame1: Fragment 1\n",
      "-79.408996582 132.871002197 173.417007446\n",
      "-100.620002747 138.598999023 178.414993286\n",
      "-60.8100013733 135.003005981 175.587997437\n",
      "-108.202003479 155.863006592 179.520004272\n",
      "-107.337997437 -37.4900016785 178.768005371\n",
      "-87.5329971313 126.988998413 170.257995605\n",
      "-68.3519973755 148.768997192 179.925003052\n",
      "-66.9280014038 141.863006592 179.270004272\n",
      "-66.6100006104 -25.3950004578 179.809005737\n",
      "Frame1: Fragment 2\n",
      "-128.5 135.026992798 170.712997437\n",
      "-122.684997559 130.132995605 -174.552001953\n",
      "-102.482002258 28.7569999695 169.867004395\n",
      "-65.9499969482 123.599998474 -176.449005127\n",
      "-69.0279998779 118.876998901 -179.511993408\n",
      "-135.843002319 147.960006714 -179.776000977\n",
      "-71.0149993896 142.186004639 177.044006348\n",
      "-165.031005859 169.222000122 179.070999146\n",
      "-103.073997498 10.0150003433 -175.115997314\n",
      "Frame1: Fragment 3\n",
      "-119.950996399 134.253005981 -175.139007568\n",
      "-119.10900116 149.343994141 178.048995972\n",
      "-64.9940032959 123.195999146 177.945999146\n",
      "-95.3369979858 108.125 -174.699005127\n",
      "-159.979003906 163.899993896 171.972000122\n",
      "-91.0350036621 130.412994385 179.12600708\n",
      "-117.426002502 116.956001282 179.615997314\n",
      "-55.0229988098 133.339996338 -179.772003174\n",
      "-61.2459983826 -35.0120010376 177.916000366\n",
      "Frame1: Fragment 4\n",
      "-88.1890029907 157.024993896 163.875\n",
      "-90.0660018921 153.667007446 178.361999512\n",
      "-58.1930007935 -41.0970001221 -178.361999512\n",
      "-90.0510025024 156.449005127 177.197006226\n",
      "-80.875 96.0189971924 -175.854995728\n",
      "-101.289001465 2.26699995995 179.64100647\n",
      "-80.1809997559 144.996002197 177.518005371\n",
      "-104.055999756 152.419006348 176.320007324\n",
      "-47.7350006104 144.746994019 12.7489995956\n",
      "Frame1: Fragment 5\n",
      "-67.3600006104 128.253997803 176.29699707\n",
      "-90.0759963989 110.413002014 -177.92199707\n",
      "-73.9179992676 140.429000854 178.720001221\n",
      "-68.0380020142 135.067993164 179.419006348\n",
      "-54.6570014954 145.26499939 178.266998291\n",
      "-76.5869979858 125.119003296 -177.899993896\n",
      "-113.653999329 119.333000183 178.962997437\n",
      "-155.388000488 145.003005981 176.861999512\n",
      "-88.9970016479 -5.02099990845 -179.962005615\n",
      "Frame1: Fragment 6\n",
      "-143.065994263 160.994995117 178.481994629\n",
      "-104.387001038 112.775001526 -178.535995483\n",
      "-71.4649963379 135.277999878 177.197006226\n",
      "-103.07800293 163.050003052 -179.781005859\n",
      "-72.3180007935 152.792999268 -179.585998535\n",
      "-56.4710006714 144.93800354 176.442001343\n",
      "-108.128997803 -47.6710014343 178.134994507\n",
      "-64.891998291 164.899993896 -178.005996704\n",
      "-78.1159973145 60.9710006714 -178.216003418\n",
      "Frame1: Fragment 7\n",
      "-117.308998108 140.093002319 175.194000244\n",
      "-112.931999207 134.927001953 177.050003052\n",
      "-87.0289993286 142.606002808 174.917007446\n",
      "-81.5319976807 85.7490005493 -172.662994385\n",
      "-126.661003113 125.833999634 173.535995483\n",
      "-71.1019973755 124.585998535 -176.878005981\n",
      "-96.31300354 147.554992676 179.600006104\n",
      "-75.033996582 159.255004883 177.166000366\n",
      "-65.9069976807 -48.1380004883 178.162994385\n",
      "Frame1: Fragment 8\n",
      "-112.464996338 47.7430000305 175.152999878\n",
      "-101.378997803 107.487998962 179.972000122\n",
      "-77.3359985352 158.485992432 174.964996338\n",
      "-96.3990020752 96.3659973145 -175.477005005\n",
      "-87.2509994507 -9.02400016785 178.057998657\n",
      "-132.04800415 114.179000854 3.17000007629\n",
      "-75.0569992065 164.723007202 -177.751998901\n",
      "-65.0059967041 137.304000854 179.261993408\n",
      "-73.2030029297 -15.0170001984 175.854995728\n",
      "Frame1: Fragment 9\n",
      "-87.2860031128 125.838996887 178.225997925\n",
      "-94.9899978638 81.6320037842 -178.388000488\n",
      "-116.754997253 135.839004517 -179.179992676\n",
      "-77.7259979248 176.658996582 175.843994141\n",
      "-91.3000030518 -19.9729995728 177.746994019\n",
      "-71.3639984131 135.001998901 -179.218002319\n",
      "-64.9909973145 136.197998047 178.266998291\n",
      "-160.414001465 163.684005737 -172.009994507\n",
      "-67.2890014648 -25.0529994965 -168.111999512\n",
      "Frame1: Fragment 10\n",
      "-115.028999329 146.332992554 173.548995972\n",
      "-133.179992676 162.419998169 -177.570999146\n",
      "-110.283996582 154.906005859 176.042007446\n",
      "-137.050003052 154.294006348 -176.009002686\n",
      "-111.474998474 139.906005859 179.261001587\n",
      "-150.074005127 164.95199585 169.981994629\n",
      "-76.43699646 145.055999756 170.444000244\n",
      "-70.1179962158 162.050994873 176.542999268\n",
      "-60.4949989319 -34.8149986267 175.841003418\n"
     ]
    }
   ],
   "source": [
    "pm = pyrosetta.PyMolMover()\n",
    "pm.keep_history(True)\n",
    "\n",
    "print type(myframelist)\n",
    "for i in myframelist: # this is only 1 frame as we selected that above,\n",
    "    # pull the first fragment\n",
    "    print type(i)\n",
    "    for j in range(1,11):\n",
    "        annotatedfragdata = i.fragment(j) ## this pulls the 2nd fragment from the file\n",
    "        print \"Frame1: Fragment %s\" %(j)\n",
    "        myseq = annotatedfragdata.sequence()\n",
    "        #pyrosetta.pose_from_sequence?\n",
    "#        fragpose = pyrosetta.pose_from_sequence(myseq,res_set)\n",
    "        fragpose = pyrosetta.pose_from_sequence(myseq,centroid)\n",
    "        pm.apply(fragpose)\n",
    "        #myseq = \"\"\n",
    "        for k in range(1,10): # 9 mers, but python\n",
    "            bbtors = annotatedfragdata.get_residue(k) # change this to 2 to get the 2nd residue data\n",
    "    #             2   146 1lqa BBTorsion S L   -100.620   138.599   178.415    27.450    18.660    20.250\n",
    "\n",
    "            \n",
    "            phi = bbtors.torsion(1) # phi\n",
    "            psi = bbtors.torsion(2) # psi\n",
    "            omega = bbtors.torsion(3) # omega\n",
    "            # pre, just a blank pose with the sequence\n",
    "            print phi,psi,omega\n",
    "            fragpose.set_phi(k,phi)\n",
    "            fragpose.set_psi(k,psi)\n",
    "            fragpose.set_omega(k,omega)\n",
    "            # now it's set to the fragment \n",
    "            \n",
    "            #seq = bbtors.sequence()\n",
    "            #print \"res:%s %s %s %s %s\" %(k,seq,phi,psi,omega)\n",
    "        pm.apply(fragpose) \n",
    "        #   myseq += seq\n",
    "        #print myseq\n",
    "    ## So now we can access the data, just construct a fragment pose out of the sequence\n",
    "    ## and set the torsions with the data and dump the pdb (or add a pymol mover)\n",
    "    \n",
    "# Note the torsions are being set, we have accessed frame 1(which is really res 1-9 in 9mers)\n",
    "# and we have access fragment 1\n",
    "#'''        Invoked with: FRAME    1   9\n",
    "#         1   146 1lqa BBTorsion Y L    -79.409   132.871   173.417    23.670    18.930    19.880\n",
    "#'''"
   ]
  },
  {
   "cell_type": "code",
   "execution_count": null,
   "metadata": {
    "collapsed": true
   },
   "outputs": [],
   "source": [
    "    print annotatedfragdata.get_residue"
   ]
  },
  {
   "cell_type": "code",
   "execution_count": null,
   "metadata": {
    "collapsed": true
   },
   "outputs": [],
   "source": [
    "print myfrag.region"
   ]
  },
  {
   "cell_type": "code",
   "execution_count": 35,
   "metadata": {
    "collapsed": false
   },
   "outputs": [],
   "source": [
    "#fl = rosetta.core.fragment.FrameList()\n",
    "#cfi = myfrag.begin()\n",
    "#cfi.plus_plus?\n",
    "myframe = rosetta.core.fragment.Frame?"
   ]
  },
  {
   "cell_type": "code",
   "execution_count": 37,
   "metadata": {
    "collapsed": true
   },
   "outputs": [],
   "source": [
    "myframe = rosetta.core.fragment.Frame()\n",
    "myframe.add_fragment?"
   ]
  },
  {
   "cell_type": "code",
   "execution_count": 18,
   "metadata": {
    "collapsed": false
   },
   "outputs": [],
   "source": []
  },
  {
   "cell_type": "code",
   "execution_count": 19,
   "metadata": {
    "collapsed": false
   },
   "outputs": [
    {
     "name": "stdout",
     "output_type": "stream",
     "text": [
      "89200\n"
     ]
    }
   ],
   "source": [
    "print myfrag.size()"
   ]
  },
  {
   "cell_type": "code",
   "execution_count": 20,
   "metadata": {
    "collapsed": false
   },
   "outputs": [
    {
     "data": {
      "text/plain": [
       "446L"
      ]
     },
     "execution_count": 20,
     "metadata": {},
     "output_type": "execute_result"
    }
   ],
   "source": [
    "#for i in range(1,myfrag.size()):\n",
    "myfrag.nr_frames()   "
   ]
  },
  {
   "cell_type": "code",
   "execution_count": 21,
   "metadata": {
    "collapsed": true
   },
   "outputs": [],
   "source": [
    "temp = rosetta.core.pose.Pose()"
   ]
  },
  {
   "cell_type": "code",
   "execution_count": 5,
   "metadata": {
    "collapsed": true
   },
   "outputs": [],
   "source": [
    "fi = rosetta.core.fragment.FrameIterator()"
   ]
  },
  {
   "cell_type": "code",
   "execution_count": 6,
   "metadata": {
    "collapsed": false
   },
   "outputs": [
    {
     "name": "stdout",
     "output_type": "stream",
     "text": [
      "<rosetta.core.fragment.FrameIterator object at 0x7f6d2e2cc1f0>\n"
     ]
    }
   ],
   "source": [
    "print fi\n",
    "fi."
   ]
  },
  {
   "cell_type": "code",
   "execution_count": null,
   "metadata": {
    "collapsed": true
   },
   "outputs": [],
   "source": []
  }
 ],
 "metadata": {
  "anaconda-cloud": {},
  "kernelspec": {
   "display_name": "Python [default]",
   "language": "python",
   "name": "python2"
  },
  "language_info": {
   "codemirror_mode": {
    "name": "ipython",
    "version": 2
   },
   "file_extension": ".py",
   "mimetype": "text/x-python",
   "name": "python",
   "nbconvert_exporter": "python",
   "pygments_lexer": "ipython2",
   "version": "2.7.12"
  }
 },
 "nbformat": 4,
 "nbformat_minor": 1
}
